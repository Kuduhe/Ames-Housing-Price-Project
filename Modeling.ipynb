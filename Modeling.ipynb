{
 "cells": [
  {
   "cell_type": "code",
   "execution_count": 1,
   "metadata": {},
   "outputs": [],
   "source": [
    "import pandas as pd\n",
    "import numpy as np\n",
    "import seaborn as sns\n",
    "import matplotlib.pyplot as plt\n",
    "import sklearn \n",
    "from sklearn.linear_model import LinearRegression\n",
    "from sklearn.model_selection import train_test_split,cross_val_score\n",
    "from sklearn import metrics\n",
    "from sklearn.preprocessing import PolynomialFeatures,StandardScaler\n",
    "from sklearn.model_selection import GridSearchCV\n",
    "from sklearn.linear_model import Ridge, Lasso\n"
   ]
  },
  {
   "cell_type": "code",
   "execution_count": 2,
   "metadata": {},
   "outputs": [],
   "source": [
    "finish = pd.read_csv('./datasets/train_cleaned.csv')\n",
    "test_clean = pd.read_csv('./datasets/test_cleaned.csv')"
   ]
  },
  {
   "cell_type": "code",
   "execution_count": 3,
   "metadata": {},
   "outputs": [
    {
     "data": {
      "text/plain": [
       "Index(['Id', 'SalePrice', 'Mo Sold', 'Yr Sold', 'Overall Qual', 'Overall Cond',\n",
       "       'Gr Liv Area', 'Garage Area', 'Garage Cars', 'Total Bsmt SF',\n",
       "       '1st Flr SF', 'Year Built', 'Year Remod/Add', 'Mas Vnr Area',\n",
       "       'Full Bath', 'Garage Yr Blt', 'Bedroom AbvGr', 'Mas Vnr Area.1',\n",
       "       'TotRms AbvGrd', 'Fireplaces', 'BsmtFin SF 1', 'BsmtFin SF 2',\n",
       "       'Bsmt Unf SF', 'Lot Frontage', 'Open Porch SF', 'Wood Deck SF', 'Fence',\n",
       "       'Pool Area', 'MS Zoning', 'Alley', 'Central Air', 'Low Qual Fin SF',\n",
       "       'Exter Qual', 'Exter Cond', 'Bsmt Qual', 'BsmtFin Type 1',\n",
       "       'BsmtFin Type 2', 'Heating QC', 'Kitchen Qual', 'Fireplace Qu',\n",
       "       'fine_neighbour', 'fine_garage_type', 'mv', 'garage_finish', 'zone1',\n",
       "       'zone2', 'Grvl', 'Pave', 'VinylSd1', 'VinylSd2', 'Pconc', 'reg_lot',\n",
       "       'np_bsmt_expo', 'sale_new', 'bsmtscore', 'garagescore'],\n",
       "      dtype='object')"
      ]
     },
     "execution_count": 3,
     "metadata": {},
     "output_type": "execute_result"
    }
   ],
   "source": [
    "finish.columns"
   ]
  },
  {
   "cell_type": "markdown",
   "metadata": {},
   "source": [
    "# Manuually Select Features"
   ]
  },
  {
   "cell_type": "code",
   "execution_count": 4,
   "metadata": {},
   "outputs": [],
   "source": [
    "cols = [\n",
    "#                  'Id',                 \n",
    "                 'Overall Qual', \n",
    "                 'Overall Cond',\n",
    "#                  'Yr Sold',\n",
    "#                  'Mo Sold',\n",
    "                 'Gr Liv Area', \n",
    "                 'zone1',\n",
    "                 'zone2',\n",
    "                 '1st Flr SF', \n",
    "#                  'Low Qual Fin SF',\n",
    "                 'Bedroom AbvGr',\n",
    "\n",
    "#                  'garagescore',\n",
    "                 'garage_finish', \n",
    "                 'Garage Area',\n",
    "                 'fine_garage_type',\n",
    "#                  'Garage Cars', \n",
    "#                  'Garage Yr Blt', \n",
    "\n",
    "                 'Fence',\n",
    "                 'Pool Area',\n",
    "\n",
    "                 'Year Built',\n",
    "#                  'Year Remod/Add',\n",
    "\n",
    "#                  'Full Bath', \n",
    "#                  'Mas Vnr Area',\n",
    "#                  'TotRms AbvGrd', \n",
    "#                  'Fireplaces', \n",
    "                 'Central Air',\n",
    "#                  'BsmtFin SF 1',\n",
    "#                  'BsmtFin Type 1',\n",
    "#                  'BsmtFin SF 2',\n",
    "#                  'BsmtFin Type 2',\n",
    "#                  'Bsmt Unf SF',\n",
    "                 'bsmtscore',\n",
    "                 'Bsmt Qual',\n",
    "                 'Total Bsmt SF', \n",
    "                 'np_bsmt_expo', \n",
    "                 'Lot Frontage',\n",
    "                 'Open Porch SF', \n",
    "                 'Wood Deck SF', \n",
    "    \n",
    "                 'Exter Qual', \n",
    "#                  'Exter Cond',\n",
    "                 'Heating QC', \n",
    "                 'Kitchen Qual', \n",
    "                 'Fireplace Qu',\n",
    "    \n",
    "                 'fine_neighbour', \n",
    "#                  'mv', \n",
    "                 'VinylSd1', # \n",
    "#                  'VinylSd2', \n",
    "#                  'Pconc',\n",
    "                 'reg_lot', \n",
    "                 'sale_new',\n",
    "#                  'SalePrice'\n",
    "]\n",
    "\n",
    "X = finish.loc[:,cols]\n",
    "y = np.log(finish['SalePrice'])"
   ]
  },
  {
   "cell_type": "code",
   "execution_count": 5,
   "metadata": {},
   "outputs": [],
   "source": [
    "cols = [               \n",
    "                 'Overall Qual', \n",
    "                 'Overall Cond',\n",
    "#                  'Yr Sold',\n",
    "#                  'Mo Sold',\n",
    "                 'Gr Liv Area', \n",
    "                 'zone1',\n",
    "                 'zone2',\n",
    "                 '1st Flr SF', \n",
    "#                  'Low Qual Fin SF',\n",
    "                 'Bedroom AbvGr',\n",
    "\n",
    "#                  'garagescore',\n",
    "                 'garage_finish', \n",
    "                 'Garage Area',\n",
    "                 'fine_garage_type',\n",
    "#                  'Garage Cars', \n",
    "#                  'Garage Yr Blt', \n",
    "#                  'Grvl',\n",
    "#                  'Pave',\n",
    "                 'Fence',\n",
    "                 'Pool Area',\n",
    "\n",
    "                 'Year Built',\n",
    "#                  'Year Remod/Add',\n",
    "\n",
    "#                  'Full Bath', \n",
    "#                  'Mas Vnr Area',\n",
    "#                  'TotRms AbvGrd', \n",
    "#                  'Fireplaces', \n",
    "                 'Central Air',\n",
    "#                  'BsmtFin SF 1',\n",
    "#                  'BsmtFin Type 1',\n",
    "#                  'BsmtFin SF 2',\n",
    "#                  'BsmtFin Type 2',\n",
    "#                  'Bsmt Unf SF',\n",
    "                 'bsmtscore',\n",
    "                 'Bsmt Qual',\n",
    "                 'Total Bsmt SF', \n",
    "                 'np_bsmt_expo', \n",
    "                 'Lot Frontage',\n",
    "                 'Open Porch SF', \n",
    "                 'Wood Deck SF', \n",
    "    \n",
    "                 'Exter Qual', \n",
    "#                  'Exter Cond',\n",
    "                 'Heating QC', \n",
    "                 'Kitchen Qual', \n",
    "                 'Fireplace Qu',\n",
    "    \n",
    "                 'fine_neighbour', \n",
    "#                  'mv', \n",
    "#                  'VinylSd1', # \n",
    "                 'VinylSd2', \n",
    "#                  'Pconc',\n",
    "                 'reg_lot', \n",
    "                 'sale_new',\n",
    "#                  'SalePrice'\n",
    "]\n",
    "\n",
    "X = finish.loc[:,cols]\n",
    "y = np.log(finish['SalePrice'])"
   ]
  },
  {
   "cell_type": "markdown",
   "metadata": {},
   "source": [
    "## 1. Use Scatter plot to select variables\n",
    "comment out because take too much memory"
   ]
  },
  {
   "cell_type": "code",
   "execution_count": 6,
   "metadata": {},
   "outputs": [],
   "source": [
    "# for i in X.columns:\n",
    "#     plt.figure(figsize = (6,6))\n",
    "#     plt.scatter(X[i],y)\n",
    "#     plt.title(i)"
   ]
  },
  {
   "cell_type": "markdown",
   "metadata": {},
   "source": [
    "## 2. Use Residual Plot and R2 to evaluate model"
   ]
  },
  {
   "cell_type": "markdown",
   "metadata": {},
   "source": [
    "### 2.1 Function to calculated RMSE"
   ]
  },
  {
   "cell_type": "code",
   "execution_count": 7,
   "metadata": {},
   "outputs": [],
   "source": [
    "def getrmse(X,y,model):\n",
    "    ave = []\n",
    "    for i in range(500):\n",
    "        X_train, X_test, y_train, y_test = train_test_split(X, y, test_size=0.3)\n",
    "        model.fit(X_train,y_train)\n",
    "        ave.append((metrics.mean_squared_error(np.exp(y_test), np.exp(model.predict(X_test))))**0.5)\n",
    "    return np.mean(ave) "
   ]
  },
  {
   "cell_type": "markdown",
   "metadata": {},
   "source": [
    "### 2.2 Function to create LR model"
   ]
  },
  {
   "cell_type": "code",
   "execution_count": 8,
   "metadata": {},
   "outputs": [],
   "source": [
    "def lr_model(X,y):\n",
    "    X_train, X_test, y_train, y_test = train_test_split(X, y, test_size=0.3, random_state = 42)\n",
    "    model = LinearRegression()\n",
    "    model.fit(X_train,y_train)\n",
    "    res = model.predict(X_test) - y_test\n",
    "    plt.scatter(res, y_test);\n",
    "    rmse_ave = getrmse(X,y,model)\n",
    "    print(f'train R2 is {cross_val_score(model, X_train, y_train, cv = 5).mean()}')\n",
    "    print(f'test R2 is {cross_val_score(model, X_test, y_test, cv = 5).mean()}')\n",
    "    print(f'RMSE Average is {rmse_ave}')\n",
    "    return rmse_ave"
   ]
  },
  {
   "cell_type": "markdown",
   "metadata": {},
   "source": [
    "### 2.3 Function to create Lasso model"
   ]
  },
  {
   "cell_type": "code",
   "execution_count": 9,
   "metadata": {},
   "outputs": [],
   "source": [
    "def lasso_model(X,y,alpha = 0.1):\n",
    "    X_train, X_test, y_train, y_test = train_test_split(X, y, test_size=0.3, random_state = 42)\n",
    "    model = Lasso(alpha = alpha)\n",
    "    model.fit(X_train,y_train)\n",
    "    res = model.predict(X_test) - y_test\n",
    "    plt.scatter(res, y_test);\n",
    "    rmse_ave = getrmse(X,y,model)\n",
    "    print(f'train R2 is {cross_val_score(model, X_train, y_train, cv = 5).mean()}')\n",
    "    print(f'test R2 is {cross_val_score(model, X_test, y_test, cv = 5).mean()}')\n",
    "    print(f'RMSE Average is {rmse_ave}')\n",
    "    return rmse_ave"
   ]
  },
  {
   "cell_type": "markdown",
   "metadata": {},
   "source": [
    "### 2.4 Function to create Ridge model"
   ]
  },
  {
   "cell_type": "code",
   "execution_count": 10,
   "metadata": {},
   "outputs": [],
   "source": [
    "def ridge_model(X,y,alpha = 0.1):\n",
    "    X_train, X_test, y_train, y_test = train_test_split(X, y, test_size=0.3, random_state = 42)\n",
    "    model = Ridge(alpha = alpha)\n",
    "    model.fit(X_train,y_train)\n",
    "    res = model.predict(X_test) - y_test\n",
    "    plt.scatter(res, y_test);\n",
    "    rmse_ave = getrmse(X,y,model)\n",
    "    print(f'train R2 is {cross_val_score(model, X_train, y_train, cv = 5).mean()}')\n",
    "    print(f'test R2 is {cross_val_score(model, X_test, y_test, cv = 5).mean()}')\n",
    "    print(f'RMSE is {rmse_ave}')\n",
    "    return rmse_ave"
   ]
  },
  {
   "cell_type": "markdown",
   "metadata": {},
   "source": [
    "### 2.5 Function to calculated best Alpha for Lasso and Ridge"
   ]
  },
  {
   "cell_type": "code",
   "execution_count": 11,
   "metadata": {},
   "outputs": [],
   "source": [
    "def find_alpha(ran):\n",
    "    parameters = {'alpha' :ran}\n",
    "    ridge_regressor = GridSearchCV(Ridge(), parameters , scoring ='neg_mean_squared_error', cv = 5)\n",
    "    lasso_regressor = GridSearchCV(Lasso(), parameters , scoring ='neg_mean_squared_error', cv = 5)\n",
    "    ridge_regressor.fit(X,y)\n",
    "    lasso_regressor.fit(X,y)\n",
    "    print(f'Ridge Best Parameter is {ridge_regressor.best_params_}')\n",
    "    print(f'Lasso Best Parameter is {lasso_regressor.best_params_}')\n",
    "    return (ridge_regressor.best_params_['alpha'],lasso_regressor.best_params_['alpha'])"
   ]
  },
  {
   "cell_type": "code",
   "execution_count": 12,
   "metadata": {},
   "outputs": [
    {
     "name": "stdout",
     "output_type": "stream",
     "text": [
      "Ridge Best Parameter is {'alpha': 6}\n",
      "Lasso Best Parameter is {'alpha': 0.0004}\n"
     ]
    }
   ],
   "source": [
    "ridge_best, lasso_best = find_alpha([1e-5,3e-4,4e-4,5e-4,1e-3,1e-2,1e-1,1,3,4,5,6,7,8,10,20])"
   ]
  },
  {
   "cell_type": "markdown",
   "metadata": {},
   "source": [
    "### 2.6 Poly transform for some columns"
   ]
  },
  {
   "cell_type": "code",
   "execution_count": 13,
   "metadata": {},
   "outputs": [],
   "source": [
    "# Define Xt as X test and sort\n",
    "Xt = test_clean[cols +['Id']]\n",
    "Xt = Xt.sort_values('Id')\n",
    "Xt.drop('Id', axis = 1, inplace = True)"
   ]
  },
  {
   "cell_type": "code",
   "execution_count": 14,
   "metadata": {},
   "outputs": [
    {
     "data": {
      "text/plain": [
       "Index(['Overall Qual', 'Overall Cond', 'Gr Liv Area', 'zone1', 'zone2',\n",
       "       '1st Flr SF', 'Bedroom AbvGr', 'garage_finish', 'Garage Area',\n",
       "       'fine_garage_type', 'Fence', 'Pool Area', 'Year Built', 'Central Air',\n",
       "       'bsmtscore', 'Bsmt Qual', 'Total Bsmt SF', 'np_bsmt_expo',\n",
       "       'Lot Frontage', 'Open Porch SF', 'Wood Deck SF', 'Exter Qual',\n",
       "       'Heating QC', 'Kitchen Qual', 'Fireplace Qu', 'fine_neighbour',\n",
       "       'VinylSd2', 'reg_lot', 'sale_new'],\n",
       "      dtype='object')"
      ]
     },
     "execution_count": 14,
     "metadata": {},
     "output_type": "execute_result"
    }
   ],
   "source": [
    "X.columns"
   ]
  },
  {
   "cell_type": "code",
   "execution_count": 15,
   "metadata": {},
   "outputs": [],
   "source": [
    "# Attempted Poly transform\n",
    "poly_cols = ['bsmtscore',\n",
    "             'Bsmt Qual',\n",
    "             'Total Bsmt SF',\n",
    "#              'np_bsmt_expo',\n",
    "             'Bedroom AbvGr',\n",
    "#              'Overall Qual',\n",
    "             'Overall Cond',\n",
    "             'Year Built',\n",
    "#              'reg_lot',\n",
    "#             '1st Flr SF',\n",
    "#              'garage_finish',\n",
    "#             'Garage Area',\n",
    "#              'Fence',\n",
    "#              'Pool Area',\n",
    "#              'Exter Qual',\n",
    "#              'Heating QC',\n",
    "#              'Kitchen Qual',\n",
    "#              'Fireplace Qu',\n",
    "#              'zone1',\n",
    "#              'zone2',\n",
    "             \n",
    "            ]\n",
    "poly = PolynomialFeatures(include_bias=True)\n",
    "\n",
    "# Us poly transform for X\n",
    "X_poly = poly.fit_transform(X[poly_cols])\n",
    "Xp = pd.DataFrame(X_poly,columns = poly.get_feature_names(cols))\n",
    "Xp = pd.concat([X,Xp], axis = 1)\n",
    "\n",
    "# Us poly transform for Xt\n",
    "Xt_poly = poly.fit_transform(Xt[poly_cols])\n",
    "Xtp = pd.DataFrame(Xt_poly,columns = poly.get_feature_names(cols))\n",
    "Xtp = pd.concat([Xt,Xtp], axis = 1)"
   ]
  },
  {
   "cell_type": "markdown",
   "metadata": {},
   "source": [
    "### Model 1 Linear Regression with X,y"
   ]
  },
  {
   "cell_type": "code",
   "execution_count": 16,
   "metadata": {
    "scrolled": true
   },
   "outputs": [
    {
     "name": "stdout",
     "output_type": "stream",
     "text": [
      "train R2 is 0.9117748126383379\n",
      "test R2 is 0.904065489076222\n",
      "RMSE Average is 21794.33107700017\n"
     ]
    },
    {
     "data": {
      "image/png": "[encoded data removed]",
      "text/plain": [
       "<Figure size 432x288 with 1 Axes>"
      ]
     },
     "metadata": {
      "needs_background": "light"
     },
     "output_type": "display_data"
    }
   ],
   "source": [
    "lr_rmse = lr_model(X,y)"
   ]
  },
  {
   "cell_type": "markdown",
   "metadata": {},
   "source": [
    "### Model 2 Linear Regression with Xp(poly transform),y"
   ]
  },
  {
   "cell_type": "code",
   "execution_count": 17,
   "metadata": {
    "scrolled": true
   },
   "outputs": [
    {
     "name": "stdout",
     "output_type": "stream",
     "text": [
      "train R2 is 0.9160793880985267\n",
      "test R2 is 0.8976735928140599\n",
      "RMSE Average is 21370.47390909844\n"
     ]
    },
    {
     "data": {
      "image/png": "[encoded data removed]",
      "text/plain": [
       "<Figure size 432x288 with 1 Axes>"
      ]
     },
     "metadata": {
      "needs_background": "light"
     },
     "output_type": "display_data"
    }
   ],
   "source": [
    "lr_p_rmse = lr_model(Xp,y)"
   ]
  },
  {
   "cell_type": "markdown",
   "metadata": {},
   "source": [
    "### Model 3 Lasso with X,y"
   ]
  },
  {
   "cell_type": "code",
   "execution_count": 18,
   "metadata": {
    "scrolled": true
   },
   "outputs": [
    {
     "name": "stdout",
     "output_type": "stream",
     "text": [
      "train R2 is 0.9121403816152117\n",
      "test R2 is 0.9046185051996621\n",
      "RMSE Average is 21761.913813796018\n"
     ]
    },
    {
     "data": {
      "image/png": "[encoded data removed]",
      "text/plain": [
       "<Figure size 432x288 with 1 Axes>"
      ]
     },
     "metadata": {
      "needs_background": "light"
     },
     "output_type": "display_data"
    }
   ],
   "source": [
    "lasso_rmse = lasso_model(X,y,alpha = lasso_best)"
   ]
  },
  {
   "cell_type": "markdown",
   "metadata": {},
   "source": [
    "### Model 4 Ridge with X,y"
   ]
  },
  {
   "cell_type": "code",
   "execution_count": 19,
   "metadata": {
    "scrolled": true
   },
   "outputs": [
    {
     "name": "stdout",
     "output_type": "stream",
     "text": [
      "train R2 is 0.9121729153569996\n",
      "test R2 is 0.9047604320766819\n",
      "RMSE is 21723.701312179826\n"
     ]
    },
    {
     "data": {
      "image/png": "[encoded data removed]",
      "text/plain": [
       "<Figure size 432x288 with 1 Axes>"
      ]
     },
     "metadata": {
      "needs_background": "light"
     },
     "output_type": "display_data"
    }
   ],
   "source": [
    "ridge_rmse = ridge_model(X,y,alpha = ridge_best)"
   ]
  },
  {
   "cell_type": "code",
   "execution_count": 20,
   "metadata": {},
   "outputs": [
    {
     "name": "stdout",
     "output_type": "stream",
     "text": [
      "{'lrp': 21370.47390909844}\n",
      "{'lr': 21794.33107700017, 'lrp': 21370.47390909844, 'lasso': 21761.913813796018, 'ridge': 21723.701312179826}\n"
     ]
    }
   ],
   "source": [
    "rmse_all = [lr_rmse,lr_p_rmse,lasso_rmse,ridge_rmse]\n",
    "models = ['lr','lrp','lasso','ridge']\n",
    "print({models[i]:rmse_all[i] for i in range(4) if rmse_all[i] == np.min(rmse_all)})\n",
    "print({models[i]:rmse_all[i] for i in range(4)})\n",
    "    "
   ]
  },
  {
   "cell_type": "markdown",
   "metadata": {},
   "source": [
    "## 3. Check the HeatMap for the X"
   ]
  },
  {
   "cell_type": "markdown",
   "metadata": {},
   "source": [
    "Comment out because taking too much memory"
   ]
  },
  {
   "cell_type": "code",
   "execution_count": 21,
   "metadata": {},
   "outputs": [],
   "source": [
    "# plt.figure(figsize = (20,10))\n",
    "# sns.heatmap(X.corr(), annot = True, cmap = 'Greens');\n"
   ]
  },
  {
   "cell_type": "markdown",
   "metadata": {},
   "source": [
    "## 4. Use OLS model to check P score"
   ]
  },
  {
   "cell_type": "markdown",
   "metadata": {},
   "source": [
    "Comment out because taking too much space"
   ]
  },
  {
   "cell_type": "code",
   "execution_count": 22,
   "metadata": {},
   "outputs": [],
   "source": [
    "# X['intercept'] = [1]*len(X)\n",
    "# import statsmodels.api as sm\n",
    "\n",
    "# The Default here is Linear Regression (ordinary least squares regression OLS)\n",
    "# model1 = sm.OLS(y,X).fit()\n",
    "# model1.summary()"
   ]
  },
  {
   "cell_type": "markdown",
   "metadata": {},
   "source": [
    "## 5. Predict test data and save to file"
   ]
  },
  {
   "cell_type": "code",
   "execution_count": 23,
   "metadata": {},
   "outputs": [],
   "source": [
    "model = LinearRegression()\n",
    "# model = Lasso(alpha = 0.0001)\n",
    "# model = Ridge(alpha = 5)"
   ]
  },
  {
   "cell_type": "code",
   "execution_count": 24,
   "metadata": {
    "scrolled": true
   },
   "outputs": [],
   "source": [
    "model.fit(Xp,y)\n",
    "sub = np.exp(model.predict(Xtp))"
   ]
  },
  {
   "cell_type": "code",
   "execution_count": 25,
   "metadata": {},
   "outputs": [],
   "source": [
    "submition = pd.read_csv('./datasets/sample_sub_reg.csv')\n",
    "submition['SalePrice'] = sub"
   ]
  },
  {
   "cell_type": "code",
   "execution_count": 26,
   "metadata": {},
   "outputs": [],
   "source": [
    "# submition.to_csv('./datasets/attempt_24.csv',index = False)"
   ]
  },
  {
   "cell_type": "code",
   "execution_count": null,
   "metadata": {},
   "outputs": [],
   "source": []
  },
  {
   "cell_type": "code",
   "execution_count": null,
   "metadata": {},
   "outputs": [],
   "source": []
  },
  {
   "cell_type": "code",
   "execution_count": null,
   "metadata": {},
   "outputs": [],
   "source": []
  }
 ],
 "metadata": {
  "kernelspec": {
   "display_name": "Python 3",
   "language": "python",
   "name": "python3"
  },
  "language_info": {
   "codemirror_mode": {
    "name": "ipython",
    "version": 3
   },
   "file_extension": ".py",
   "mimetype": "text/x-python",
   "name": "python",
   "nbconvert_exporter": "python",
   "pygments_lexer": "ipython3",
   "version": "3.7.3"
  }
 },
 "nbformat": 4,
 "nbformat_minor": 2
}
